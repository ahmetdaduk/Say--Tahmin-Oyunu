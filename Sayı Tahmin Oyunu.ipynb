{
 "cells": [
  {
   "cell_type": "code",
   "execution_count": null,
   "id": "6152a1db",
   "metadata": {},
   "outputs": [],
   "source": [
    "import random\n",
    "sayi=random.randint(1,100)\n",
    "hak=10\n",
    "sayac=0\n",
    "while hak>0:\n",
    "    tahmin=int(input(\"tahmin: \"))\n",
    "    hak-=1 \n",
    "    sayac+=1\n",
    "    if tahmin==sayi:\n",
    "        print(f\"tebrikler {sayac}. defada buldunuz. Puanınız {100-(sayac*10)}\")\n",
    "    elif hak==0:\n",
    "        print(\"Maalesef tahminlerinizde başarılı olamadınız. Puanınız 0\")\n",
    "    elif tahmin>sayi:\n",
    "        print(\"aşağı\")\n",
    "    else:\n",
    "        print(\"yukarı\")\n",
    "print(sayi)"
   ]
  }
 ],
 "metadata": {
  "kernelspec": {
   "display_name": "Python 3 (ipykernel)",
   "language": "python",
   "name": "python3"
  },
  "language_info": {
   "codemirror_mode": {
    "name": "ipython",
    "version": 3
   },
   "file_extension": ".py",
   "mimetype": "text/x-python",
   "name": "python",
   "nbconvert_exporter": "python",
   "pygments_lexer": "ipython3",
   "version": "3.9.13"
  }
 },
 "nbformat": 4,
 "nbformat_minor": 5
}
